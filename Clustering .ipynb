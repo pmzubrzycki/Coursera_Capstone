{
    "cells": [
        {
            "cell_type": "code",
            "execution_count": 11,
            "metadata": {},
            "outputs": [
                {
                    "data": {
                        "text/plain": "(103, 3)"
                    },
                    "execution_count": 11,
                    "metadata": {},
                    "output_type": "execute_result"
                }
            ],
            "source": "#Import required libraries for web scraping\nimport requests\nfrom bs4 import BeautifulSoup\nimport pandas as pd\n\n# url of the website\nURL = 'https://en.wikipedia.org/wiki/List_of_postal_codes_of_Canada:_M'\npage = requests.get(URL)\n\n# assign content of the page to BeautifulSoup object\npage_content = BeautifulSoup(page.content, 'html.parser')\n\n# extract column information from the 1st table and store it in the list\n# print(page_content.find_all('table')[0].find('tr'))\nheaders = page_content.find_all('table')[0].find('tr')\nheaders_list = []\n\nfor item in headers:\n    try:\n        headers_list.append(item.get_text().strip('\\n'))\n    except:\n        continue\n\n# print(headers_list)\n\n# extract content of each column and store it in the list\n# print(page_content.find_all('table')[0].find_all('tr')[1:])\nrows = page_content.find_all('table')[0].find_all('tr')[1:]\nrows_list = []\n\n\nfor row in rows:\n\n    row_list = []\n    for item in row:\n        try:\n            row_list.append(item.get_text().strip('\\n'))\n        except:\n            continue\n\n    rows_list.append(row_list)\n\n# print(rows_list)\n\n# dropping all rows with Borough = 'Not assigned'\ni = 0\nwhile i < len(rows_list):\n    if rows_list[i][1] == 'Not assigned':\n        del rows_list[i]\n        i -= 1\n    i += 1\n\n# assigning Borough to Neighbourhood if Neighbourhood = 'Not assigned'\nfor i in range(0, len(rows_list)):\n    if rows_list[i][2] == 'Not assigned':\n        rows_list[i][2] = rows_list[i][1]\n\n    \n# creating panda data frame with table information\ndf_postal_codes = pd.DataFrame(columns=headers_list)\n# for i in rows_list:\n#     df_postal_codes = df_postal_codes.append(i, ignore_index=True)\n\nfor i in range(0, len(rows_list)):\n    tmp_row = {'Postal Code':rows_list[i][0], 'Borough':rows_list[i][1], 'Neighbourhood':rows_list[i][2]}\n    df_postal_codes = df_postal_codes.append(tmp_row, ignore_index=True)\n\ndf_postal_codes.shape"
        },
        {
            "cell_type": "code",
            "execution_count": null,
            "metadata": {},
            "outputs": [],
            "source": "\n"
        }
    ],
    "metadata": {
        "kernelspec": {
            "display_name": "Python 3.7",
            "language": "python",
            "name": "python3"
        },
        "language_info": {
            "codemirror_mode": {
                "name": "ipython",
                "version": 3
            },
            "file_extension": ".py",
            "mimetype": "text/x-python",
            "name": "python",
            "nbconvert_exporter": "python",
            "pygments_lexer": "ipython3",
            "version": "3.7.9"
        }
    },
    "nbformat": 4,
    "nbformat_minor": 1
}