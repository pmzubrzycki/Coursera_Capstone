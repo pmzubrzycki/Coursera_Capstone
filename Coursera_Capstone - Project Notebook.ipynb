{
    "cells": [
        {
            "cell_type": "markdown",
            "metadata": {},
            "source": "<br></br>\n<p style=\"font-family: Arial; font-size:4em; color:red\">\n    <strong>\n        Applied Data Science\n    </strong>\n</p>\n\n<br></br>\n<p style=\"font-family: Arial; font-size:2em; color:black\">\n    <strong>\n        <em>\n            This notebook will be mainly used for the capstone project\n        </em>\n    </strong>\n</p>\n<br></br>\n<br></br>"
        },
        {
            "cell_type": "markdown",
            "metadata": {},
            "source": "<p style=\"font-family: Calibri; font-size:1.5em; color:black\">  \n        Imoprting Required Liblaries  \n</p>"
        },
        {
            "cell_type": "code",
            "execution_count": 20,
            "metadata": {},
            "outputs": [],
            "source": "import pandas as pd\nimport numpy as np"
        },
        {
            "cell_type": "markdown",
            "metadata": {},
            "source": "<br></br>\n<p style=\"font-family: Calibri; font-size:1.5em; color:black\">  \n         Hello Capstone Project Course!  \n</p>\n<br></br>"
        }
    ],
    "metadata": {
        "kernelspec": {
            "display_name": "Python 3.7",
            "language": "python",
            "name": "python3"
        },
        "language_info": {
            "codemirror_mode": {
                "name": "ipython",
                "version": 3
            },
            "file_extension": ".py",
            "mimetype": "text/x-python",
            "name": "python",
            "nbconvert_exporter": "python",
            "pygments_lexer": "ipython3",
            "version": "3.7.9"
        }
    },
    "nbformat": 4,
    "nbformat_minor": 1
}